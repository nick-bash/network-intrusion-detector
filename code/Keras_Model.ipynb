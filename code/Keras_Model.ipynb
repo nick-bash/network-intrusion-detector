{
 "cells": [
  {
   "cell_type": "code",
   "execution_count": 134,
   "metadata": {
    "execution": {
     "iopub.execute_input": "2021-05-19T10:39:11.217240Z",
     "iopub.status.busy": "2021-05-19T10:39:11.216629Z",
     "iopub.status.idle": "2021-05-19T10:39:18.231161Z",
     "shell.execute_reply": "2021-05-19T10:39:18.231563Z"
    },
    "id": "dzLKpmZICaWN"
   },
   "outputs": [
    {
     "name": "stdout",
     "output_type": "stream",
     "text": [
      "Tensorflow version: 2.1.3\n",
      "Keras version: 2.3.0\n"
     ]
    }
   ],
   "source": [
    "import numpy as np\n",
    "import tensorflow as tf\n",
    "import time\n",
    "import matplotlib.pyplot as plt\n",
    "from keras.callbacks import ModelCheckpoint\n",
    "from keras.models import Model, load_model, Sequential\n",
    "from keras.layers import Dense, Activation, Dropout, Input, Masking, TimeDistributed, LSTM, Conv1D\n",
    "from keras.layers import GRU, Bidirectional, BatchNormalization, Reshape\n",
    "from keras.optimizers import Adam\n",
    "import keras\n",
    "print(\"Tensorflow version: \" + tf.__version__)\n",
    "print(\"Keras version: \" + keras.__version__)"
   ]
  },
  {
   "cell_type": "code",
   "execution_count": 2,
   "metadata": {},
   "outputs": [
    {
     "name": "stdout",
     "output_type": "stream",
     "text": [
      "time elapsed: 353.20157623291016 sec's\n"
     ]
    }
   ],
   "source": [
    "# Load data\n",
    "tic = time.time()\n",
    "\n",
    "# For local machine:\n",
    "# path = r'C:\\Users\\Nick Bashour\\Documents\\Personal\\14. Stanford\\2. Academics\\3. 2021 Spring\\1. CS 230\\2. Project\\3. Code\\\\'\n",
    "# For AWS EC2 instance:\n",
    "path = \"clean_data/\"\n",
    "\n",
    "X_train = np.genfromtxt(str(path+'X_train.csv'), delimiter=',')\n",
    "Y_train = np.genfromtxt(str(path+'Y_train.csv'), delimiter=',')\n",
    "\n",
    "X_test = np.genfromtxt(str(path+'X_test.csv'), delimiter=',')\n",
    "Y_test = np.genfromtxt(str(path+'Y_test.csv'), delimiter=',')\n",
    "\n",
    "toc = time.time()\n",
    "print(\"time elapsed: \" + str(toc-tic) + \" sec's\")"
   ]
  },
  {
   "cell_type": "code",
   "execution_count": 3,
   "metadata": {},
   "outputs": [
    {
     "name": "stdout",
     "output_type": "stream",
     "text": [
      "Training set shapes: \n",
      "   X: (2819023, 77)\n",
      "   Y: (2819023, 15)\n",
      "Test set shapes: \n",
      "   X: (11720, 77)\n",
      "   Y: (11720, 15)\n",
      "# of X features: 77\n",
      "# of Y labels: 15\n"
     ]
    }
   ],
   "source": [
    "# Data dimensions\n",
    "print(\"Training set shapes: \")\n",
    "print(\"   X: \" + str(X_train.shape))\n",
    "print(\"   Y: \" + str(Y_train.shape))\n",
    "print(\"Test set shapes: \")\n",
    "print(\"   X: \" + str(X_test.shape))\n",
    "print(\"   Y: \" + str(Y_test.shape))\n",
    "\n",
    "nx = X_train.shape[1]\n",
    "ny = Y_train.shape[1]\n",
    "print(\"# of X features:\",nx)\n",
    "print(\"# of Y labels:\", ny)"
   ]
  },
  {
   "cell_type": "code",
   "execution_count": 4,
   "metadata": {},
   "outputs": [
    {
     "name": "stdout",
     "output_type": "stream",
     "text": [
      "time elapsed: 5.900663137435913 sec's\n"
     ]
    }
   ],
   "source": [
    "# Shuffle training data\n",
    "def shuffle_in_unison(a, b):\n",
    "    assert len(a) == len(b)\n",
    "    shuffled_a = np.empty(a.shape, dtype=a.dtype)\n",
    "    shuffled_b = np.empty(b.shape, dtype=b.dtype)\n",
    "    permutation = np.random.permutation(len(a))\n",
    "    for old_index, new_index in enumerate(permutation):\n",
    "        shuffled_a[new_index] = a[old_index]\n",
    "        shuffled_b[new_index] = b[old_index]\n",
    "    return shuffled_a, shuffled_b\n",
    "\n",
    "tic = time.time()\n",
    "\n",
    "X_train, Y_train = shuffle_in_unison(X_train, Y_train)\n",
    "\n",
    "toc = time.time()\n",
    "\n",
    "print(\"time elapsed: \" + str(toc-tic) + \" sec's\")"
   ]
  },
  {
   "cell_type": "code",
   "execution_count": 128,
   "metadata": {},
   "outputs": [
    {
     "name": "stdout",
     "output_type": "stream",
     "text": [
      "Unique label count: 15\n",
      "# of samples by label: [2272097, 966, 127027, 9293, 230073, 4499, 4796, 6938, 0, 0, 157930, 4897, 507, 0, 0]\n"
     ]
    }
   ],
   "source": [
    "# Create labels\n",
    "labels = np.array(['BENIGN', 'Bot', 'DDoS', 'DoS GoldenEye', 'DoS Hulk', 'DoS Slowhttptest',\n",
    " 'DoS slowloris', 'FTP-Patator', 'Heartbleed', 'Infiltration', 'PortScan',\n",
    " 'SSH-Patator', 'Web Attack - Brute Force', 'Web Attack - Sql Injection',\n",
    " 'Web Attack - XSS'], dtype=object)\n",
    "\n",
    "print(\"Unique label count: \"+ str(len(labels)))\n",
    "\n",
    "# Count # of samples by label\n",
    "samples_of_label = [int(i) for i in np.sum(Y_train, axis = 0)]\n",
    "print(\"# of samples by label:\",samples_of_label)"
   ]
  },
  {
   "cell_type": "code",
   "execution_count": 129,
   "metadata": {},
   "outputs": [],
   "source": [
    "# Penalties for each attack label are set at a baseline of the ratio of benign samples to that label's samples\n",
    "# Additionally, hyperparameter to scale that baseline by a factor of scale_penalties\n",
    "scale_penalties = 1000\n",
    "class_penalties = np.zeros(len(labels))\n",
    "for i in range(len(samples_of_label)):\n",
    "    if samples_of_label[i] > 0:\n",
    "        class_penalties[i] = samples_of_label[0] / samples_of_label[i]\n",
    "    else:\n",
    "        class_penalties[i] = 1\n",
    "    class_penalties[0] = 1/scale_penalties"
   ]
  },
  {
   "cell_type": "code",
   "execution_count": 135,
   "metadata": {},
   "outputs": [],
   "source": [
    "# The following blocks of code define the many models which were tested"
   ]
  },
  {
   "cell_type": "code",
   "execution_count": 130,
   "metadata": {},
   "outputs": [],
   "source": [
    "def three_layer_model(input_shape):    \n",
    "    X_input = Input(shape = input_shape)\n",
    "    X = Dense(units = 30, activation = 'relu')(X_input)\n",
    "    X = Dense(units = 20, activation = 'relu')(X)    \n",
    "    X = Dense(units = len(labels), activation = 'softmax')(X)\n",
    "    model = Model(inputs = X_input, outputs = X)    \n",
    "    return model  "
   ]
  },
  {
   "cell_type": "code",
   "execution_count": 131,
   "metadata": {},
   "outputs": [],
   "source": [
    "def four_layer_model(input_shape):    \n",
    "    X_input = Input(shape = input_shape)\n",
    "    X = Dense(units = 40, activation = 'relu')(X_input)    \n",
    "    X = Dense(units = 30, activation = 'relu')(X)    \n",
    "    X = Dense(units = 20, activation = 'relu')(X)        \n",
    "    X = Dense(units = len(labels), activation = 'softmax')(X)\n",
    "    model = Model(inputs = X_input, outputs = X)\n",
    "    \n",
    "    return model  "
   ]
  },
  {
   "cell_type": "code",
   "execution_count": 132,
   "metadata": {},
   "outputs": [],
   "source": [
    "def five_layer_model_1(input_shape):    \n",
    "    X_input = Input(shape = input_shape)\n",
    "    X = Dense(units = 30, activation = 'relu')(X_input)\n",
    "    X = Dropout(rate = 0.2)(X)\n",
    "    X = Dense(units = 24, activation = 'relu')(X)\n",
    "    X = Dropout(rate = 0.2)(X)\n",
    "    X = Dense(units = 16, activation = 'relu')(X)    \n",
    "    X = Dense(units = 10, activation = 'relu')(X)    \n",
    "    X = Dense(units = len(labels), activation = 'softmax')(X)\n",
    "    model = Model(inputs = X_input, outputs = X)\n",
    "    \n",
    "    return model  "
   ]
  },
  {
   "cell_type": "code",
   "execution_count": 133,
   "metadata": {},
   "outputs": [],
   "source": [
    "def five_layer_model_2(input_shape):    \n",
    "    X_input = Input(shape = input_shape)\n",
    "    X = Dense(units = 50, activation = 'relu')(X_input)\n",
    "    X = Dropout(rate = 0.2)(X)\n",
    "    X = Dense(units = 40, activation = 'relu')(X)\n",
    "    X = Dropout(rate = 0.2)(X)\n",
    "    X = Dense(units = 30, activation = 'relu')(X)    \n",
    "    X = Dense(units = 20, activation = 'relu')(X)    \n",
    "    X = Dense(units = len(labels), activation = 'softmax')(X)\n",
    "    model = Model(inputs = X_input, outputs = X)\n",
    "    \n",
    "    return model  "
   ]
  },
  {
   "cell_type": "code",
   "execution_count": 57,
   "metadata": {},
   "outputs": [],
   "source": [
    "def five_layer_model_3(input_shape):    \n",
    "    X_input = Input(shape = input_shape)\n",
    "    X = Dense(units = 50, activation = 'relu')(X_input)    \n",
    "    X = Dense(units = 40, activation = 'relu')(X)    \n",
    "    X = Dense(units = 30, activation = 'relu')(X)    \n",
    "    X = Dense(units = 20, activation = 'relu')(X)    \n",
    "    X = Dense(units = len(labels), activation = 'softmax')(X)\n",
    "    model = Model(inputs = X_input, outputs = X)\n",
    "    \n",
    "    return model  "
   ]
  },
  {
   "cell_type": "code",
   "execution_count": 58,
   "metadata": {},
   "outputs": [],
   "source": [
    "def six_layer_model_1(input_shape):    \n",
    "    X_input = Input(shape = input_shape)\n",
    "    X = Dense(units = 50, activation = 'relu')(X_input)    \n",
    "    X = Dense(units = 40, activation = 'relu')(X)    \n",
    "    X = Dense(units = 30, activation = 'relu')(X)    \n",
    "    X = Dense(units = 25, activation = 'relu')(X)    \n",
    "    X = Dense(units = 20, activation = 'relu')(X)    \n",
    "    X = Dense(units = len(labels), activation = 'softmax')(X)\n",
    "    model = Model(inputs = X_input, outputs = X)\n",
    "    \n",
    "    return model  "
   ]
  },
  {
   "cell_type": "code",
   "execution_count": 59,
   "metadata": {},
   "outputs": [],
   "source": [
    "def six_layer_model_2(input_shape):    \n",
    "    X_input = Input(shape = input_shape)\n",
    "    X = Dense(units = 50, activation = 'relu')(X_input)    \n",
    "    X = Dropout(rate=0.2)(X)\n",
    "    X = Dense(units = 40, activation = 'relu')(X)    \n",
    "    X = Dropout(rate=0.2)(X)\n",
    "    X = Dense(units = 30, activation = 'relu')(X)    \n",
    "    X = Dense(units = 25, activation = 'relu')(X)    \n",
    "    X = Dense(units = 20, activation = 'relu')(X)    \n",
    "    X = Dense(units = len(labels), activation = 'softmax')(X)\n",
    "    model = Model(inputs = X_input, outputs = X)\n",
    "    \n",
    "    return model  "
   ]
  },
  {
   "cell_type": "code",
   "execution_count": 60,
   "metadata": {},
   "outputs": [],
   "source": [
    "def six_layer_model_3(input_shape):    \n",
    "    X_input = Input(shape = input_shape)\n",
    "    X = Dense(units = 60, activation = 'relu')(X_input)    \n",
    "    X = Dense(units = 50, activation = 'relu')(X)    \n",
    "    X = Dense(units = 40, activation = 'relu')(X)    \n",
    "    X = Dense(units = 30, activation = 'relu')(X)    \n",
    "    X = Dense(units = 20, activation = 'relu')(X)    \n",
    "    X = Dense(units = len(labels), activation = 'softmax')(X)\n",
    "    model = Model(inputs = X_input, outputs = X)\n",
    "    \n",
    "    return model  "
   ]
  },
  {
   "cell_type": "code",
   "execution_count": 115,
   "metadata": {},
   "outputs": [],
   "source": [
    "def six_layer_model_4(input_shape):    \n",
    "    X_input = Input(shape = input_shape)\n",
    "    X = Dense(units = 60, activation = 'relu')(X_input)    \n",
    "    X = Dropout(rate = 0.2)(X)\n",
    "    X = Dense(units = 50, activation = 'relu')(X)    \n",
    "    X = Dropout(rate = 0.2)(X)\n",
    "    X = Dense(units = 40, activation = 'relu')(X)    \n",
    "    X = Dense(units = 30, activation = 'relu')(X)    \n",
    "    X = Dense(units = 20, activation = 'relu')(X)    \n",
    "    X = Dense(units = len(labels), activation = 'softmax')(X)\n",
    "    model = Model(inputs = X_input, outputs = X)\n",
    "    \n",
    "    return model  "
   ]
  },
  {
   "cell_type": "code",
   "execution_count": 61,
   "metadata": {},
   "outputs": [],
   "source": [
    "def seven_layer_model_1(input_shape):\n",
    "    X_input = Input(shape = input_shape)\n",
    "    X = Dense(units = 50, activation = 'relu')(X_input)\n",
    "    X = Dense(units = 40, activation = 'relu')(X)    \n",
    "    X = Dense(units = 30, activation = 'relu')(X)    \n",
    "    X = Dense(units = 25, activation = 'relu')(X)\n",
    "    X = Dense(units = 20, activation = 'relu')(X)        \n",
    "    X = Dense(units = 15, activation = 'relu')(X)    \n",
    "    X = Dense(units = len(labels), activation = 'softmax')(X)\n",
    "    model = Model(inputs = X_input, outputs = X)\n",
    "    \n",
    "    return model  "
   ]
  },
  {
   "cell_type": "code",
   "execution_count": 62,
   "metadata": {},
   "outputs": [],
   "source": [
    "def seven_layer_model_2(input_shape):    \n",
    "    X_input = Input(shape = input_shape)\n",
    "    X = Dense(units = 50, activation = 'relu')(X_input)\n",
    "    X = Dropout(rate = 0.2)(X)\n",
    "    X = Dense(units = 40, activation = 'relu')(X)\n",
    "    X = Dropout(rate = 0.2)(X)\n",
    "    X = Dense(units = 30, activation = 'relu')(X)    \n",
    "    X = Dense(units = 25, activation = 'relu')(X)    \n",
    "    X = Dense(units = 20, activation = 'relu')(X)        \n",
    "    X = Dense(units = 15, activation = 'relu')(X)    \n",
    "    X = Dense(units = len(labels), activation = 'softmax')(X)\n",
    "    model = Model(inputs = X_input, outputs = X)\n",
    "    \n",
    "    return model  "
   ]
  },
  {
   "cell_type": "code",
   "execution_count": 63,
   "metadata": {},
   "outputs": [],
   "source": [
    "def seven_layer_model_3(input_shape):    \n",
    "    X_input = Input(shape = input_shape)\n",
    "    X = Dense(units = 70, activation = 'relu')(X_input)\n",
    "    X = Dense(units = 60, activation = 'relu')(X)    \n",
    "    X = Dense(units = 50, activation = 'relu')(X)    \n",
    "    X = Dense(units = 40, activation = 'relu')(X)    \n",
    "    X = Dense(units = 30, activation = 'relu')(X)        \n",
    "    X = Dense(units = 20, activation = 'relu')(X)    \n",
    "    X = Dense(units = len(labels), activation = 'softmax')(X)\n",
    "    model = Model(inputs = X_input, outputs = X)\n",
    "    \n",
    "    return model  "
   ]
  },
  {
   "cell_type": "code",
   "execution_count": 125,
   "metadata": {
    "scrolled": true
   },
   "outputs": [
    {
     "name": "stdout",
     "output_type": "stream",
     "text": [
      "Epoch 1/25\n",
      "2819023/2819023 [==============================] - 108s 38us/step - loss: 0.1381 - accuracy: 0.9557\n",
      "Epoch 2/25\n",
      "2819023/2819023 [==============================] - 105s 37us/step - loss: 0.0703 - accuracy: 0.9716\n",
      "Epoch 3/25\n",
      "2819023/2819023 [==============================] - 106s 38us/step - loss: 0.0636 - accuracy: 0.9736\n",
      "Epoch 4/25\n",
      "2819023/2819023 [==============================] - 105s 37us/step - loss: 0.0592 - accuracy: 0.9756\n",
      "Epoch 5/25\n",
      "2819023/2819023 [==============================] - 106s 38us/step - loss: 0.0551 - accuracy: 0.9775\n",
      "Epoch 6/25\n",
      "2819023/2819023 [==============================] - 110s 39us/step - loss: 0.0496 - accuracy: 0.9808\n",
      "Epoch 7/25\n",
      "2819023/2819023 [==============================] - 110s 39us/step - loss: 0.0434 - accuracy: 0.9839\n",
      "Epoch 8/25\n",
      "2819023/2819023 [==============================] - 105s 37us/step - loss: 0.0401 - accuracy: 0.9848\n",
      "Epoch 9/25\n",
      "2819023/2819023 [==============================] - 107s 38us/step - loss: 0.0388 - accuracy: 0.9851\n",
      "Epoch 10/25\n",
      "2819023/2819023 [==============================] - 107s 38us/step - loss: 0.0380 - accuracy: 0.9853\n",
      "Epoch 11/25\n",
      "2819023/2819023 [==============================] - 106s 38us/step - loss: 0.0373 - accuracy: 0.9856\n",
      "Epoch 12/25\n",
      "2819023/2819023 [==============================] - 105s 37us/step - loss: 0.0368 - accuracy: 0.9857\n",
      "Epoch 13/25\n",
      "2819023/2819023 [==============================] - 114s 40us/step - loss: 0.0365 - accuracy: 0.9859\n",
      "Epoch 14/25\n",
      "2819023/2819023 [==============================] - 104s 37us/step - loss: 0.0361 - accuracy: 0.9859\n",
      "Epoch 15/25\n",
      "2819023/2819023 [==============================] - 107s 38us/step - loss: 0.0358 - accuracy: 0.9860\n",
      "Epoch 16/25\n",
      "2819023/2819023 [==============================] - 105s 37us/step - loss: 0.0354 - accuracy: 0.9861\n",
      "Epoch 17/25\n",
      "2819023/2819023 [==============================] - 105s 37us/step - loss: 0.0352 - accuracy: 0.9862\n",
      "Epoch 18/25\n",
      "2819023/2819023 [==============================] - 108s 38us/step - loss: 0.0348 - accuracy: 0.9863\n",
      "Epoch 19/25\n",
      "2819023/2819023 [==============================] - 109s 39us/step - loss: 0.0346 - accuracy: 0.9864\n",
      "Epoch 20/25\n",
      "2819023/2819023 [==============================] - 106s 38us/step - loss: 0.0344 - accuracy: 0.9864\n",
      "Epoch 21/25\n",
      "2819023/2819023 [==============================] - 105s 37us/step - loss: 0.0342 - accuracy: 0.9865\n",
      "Epoch 22/25\n",
      "2819023/2819023 [==============================] - 107s 38us/step - loss: 0.0339 - accuracy: 0.9866\n",
      "Epoch 23/25\n",
      "2819023/2819023 [==============================] - 114s 40us/step - loss: 0.0336 - accuracy: 0.9867\n",
      "Epoch 24/25\n",
      "2819023/2819023 [==============================] - 105s 37us/step - loss: 0.0334 - accuracy: 0.9867\n",
      "Epoch 25/25\n",
      "2819023/2819023 [==============================] - 113s 40us/step - loss: 0.0331 - accuracy: 0.9868\n",
      "First 25 epochs elapsed:  2683.1528799533844  seconds\n",
      "\n",
      "Test accuracy: 0.7430034279823303\n",
      "Epoch 1/25\n",
      "2819023/2819023 [==============================] - 107s 38us/step - loss: 0.0331 - accuracy: 0.9867\n",
      "Epoch 2/25\n",
      "2819023/2819023 [==============================] - 104s 37us/step - loss: 0.0327 - accuracy: 0.9869\n",
      "Epoch 3/25\n",
      "2819023/2819023 [==============================] - 106s 38us/step - loss: 0.0327 - accuracy: 0.9869\n",
      "Epoch 4/25\n",
      "2819023/2819023 [==============================] - 106s 38us/step - loss: 0.0324 - accuracy: 0.9870\n",
      "Epoch 5/25\n",
      "2819023/2819023 [==============================] - 103s 37us/step - loss: 0.0323 - accuracy: 0.9870\n",
      "Epoch 6/25\n",
      "2819023/2819023 [==============================] - 105s 37us/step - loss: 0.0320 - accuracy: 0.9871\n",
      "Epoch 7/25\n",
      "2819023/2819023 [==============================] - 105s 37us/step - loss: 0.0321 - accuracy: 0.9871\n",
      "Epoch 8/25\n",
      "2819023/2819023 [==============================] - 105s 37us/step - loss: 0.0319 - accuracy: 0.9871\n",
      "Epoch 9/25\n",
      "2819023/2819023 [==============================] - 107s 38us/step - loss: 0.0317 - accuracy: 0.9873\n",
      "Epoch 10/25\n",
      "2819023/2819023 [==============================] - 108s 38us/step - loss: 0.0313 - accuracy: 0.9874\n",
      "Epoch 11/25\n",
      "2819023/2819023 [==============================] - 105s 37us/step - loss: 0.0311 - accuracy: 0.9876\n",
      "Epoch 12/25\n",
      "2819023/2819023 [==============================] - 109s 39us/step - loss: 0.0308 - accuracy: 0.9878\n",
      "Epoch 13/25\n",
      "2819023/2819023 [==============================] - 105s 37us/step - loss: 0.0306 - accuracy: 0.9878\n",
      "Epoch 14/25\n",
      "2819023/2819023 [==============================] - 109s 39us/step - loss: 0.0305 - accuracy: 0.9879\n",
      "Epoch 15/25\n",
      "2819023/2819023 [==============================] - 103s 37us/step - loss: 0.0301 - accuracy: 0.9881\n",
      "Epoch 16/25\n",
      "2819023/2819023 [==============================] - 104s 37us/step - loss: 0.0300 - accuracy: 0.9881\n",
      "Epoch 17/25\n",
      "2819023/2819023 [==============================] - 103s 37us/step - loss: 0.0296 - accuracy: 0.9883\n",
      "Epoch 18/25\n",
      "2819023/2819023 [==============================] - 103s 37us/step - loss: 0.0294 - accuracy: 0.9884\n",
      "Epoch 19/25\n",
      "2819023/2819023 [==============================] - 104s 37us/step - loss: 0.0289 - accuracy: 0.9887\n",
      "Epoch 20/25\n",
      "2819023/2819023 [==============================] - 107s 38us/step - loss: 0.0288 - accuracy: 0.9887\n",
      "Epoch 21/25\n",
      "2819023/2819023 [==============================] - 104s 37us/step - loss: 0.0283 - accuracy: 0.9890\n",
      "Epoch 22/25\n",
      "2819023/2819023 [==============================] - 105s 37us/step - loss: 0.0277 - accuracy: 0.9892\n",
      "Epoch 23/25\n",
      "2819023/2819023 [==============================] - 106s 38us/step - loss: 0.0279 - accuracy: 0.9891\n",
      "Epoch 24/25\n",
      "2819023/2819023 [==============================] - 109s 39us/step - loss: 0.0267 - accuracy: 0.9897\n",
      "Epoch 25/25\n",
      "2819023/2819023 [==============================] - 104s 37us/step - loss: 0.0259 - accuracy: 0.9900\n",
      "50 epochs elapsed:  5323.344187736511  seconds\n",
      "\n",
      "Test accuracy: 0.7466723322868347\n"
     ]
    }
   ],
   "source": [
    "# Model set-up\n",
    "model = six_layer_model_3(input_shape = (nx,))\n",
    "opt = Adam(lr=0.0001, beta_1=0.9, beta_2=0.999)\n",
    "model.compile(optimizer=opt,\n",
    "              loss='categorical_crossentropy',\n",
    "              metrics=['accuracy'])\n",
    "\n",
    "# First 25 epochs\n",
    "tic = time.time()\n",
    "model.fit(X_train, Y_train, batch_size = 128, epochs=25)\n",
    "toc = time.time()\n",
    "print(\"First 25 epochs elapsed: \", str(toc-tic), \" seconds\")\n",
    "\n",
    "# Measure accuracy on test data\n",
    "_, test_acc = model.evaluate(X_test, Y_test, verbose=2)\n",
    "print('\\nTest accuracy:', test_acc)\n",
    "\n",
    "# Save model for future use\n",
    "path = 'saved_models/'\n",
    "name = '210603_6_L_3_25e.h5'\n",
    "model.save(path+name)\n",
    "\n",
    "# Next 25 epochs\n",
    "model.fit(X_train, Y_train, batch_size = 128, epochs=25)\n",
    "toc = time.time()\n",
    "print(\"50 epochs elapsed: \", str(toc-tic), \" seconds\")\n",
    "\n",
    "# Measure accuracy on test data\n",
    "_, test_acc = model.evaluate(X_test, Y_test, verbose=2)\n",
    "print('\\nTest accuracy:', test_acc)\n",
    "\n",
    "# Save model for future use\n",
    "path = 'saved_models/'\n",
    "name = '210603_6_L_3_50e.h5'\n",
    "model.save(path+name)"
   ]
  }
 ],
 "metadata": {
  "colab": {
   "collapsed_sections": [],
   "name": "classification.ipynb",
   "toc_visible": true
  },
  "kernelspec": {
   "display_name": "Python 3",
   "language": "python",
   "name": "python3"
  },
  "language_info": {
   "codemirror_mode": {
    "name": "ipython",
    "version": 3
   },
   "file_extension": ".py",
   "mimetype": "text/x-python",
   "name": "python",
   "nbconvert_exporter": "python",
   "pygments_lexer": "ipython3",
   "version": "3.6.13"
  }
 },
 "nbformat": 4,
 "nbformat_minor": 1
}
